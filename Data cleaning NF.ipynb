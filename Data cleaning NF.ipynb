{
 "cells": [
  {
   "cell_type": "code",
   "execution_count": 1,
   "metadata": {},
   "outputs": [
    {
     "name": "stderr",
     "output_type": "stream",
     "text": [
      "UsageError: Line magic function `%` not found.\n"
     ]
    }
   ],
   "source": [
    "\n",
    "\n",
    "# Import dependencies\n",
    "import pandas as pd\n",
    "from datetime import datetime\n",
    "import matplotlib.pyplot as plt\n",
    "% matplotlib inline\n",
    "import matplotlib.ticker as ticker\n",
    "import numpy as np\n",
    "from scipy.stats import linregress\n",
    "import hvplot.pandas\n",
    "import plotly.express as px\n",
    "from wordcloud import WordCloud,STOPWORDS\n",
    "\n",
    "#Turning off warning\n",
    "import warnings\n",
    "warnings.filterwarnings(\"ignore\")\n",
    "\n",
    "# Import dependency and set theme for visualizations\n",
    "import seaborn as sns\n",
    "\n",
    "\n"
   ]
  },
  {
   "cell_type": "code",
   "execution_count": 2,
   "metadata": {},
   "outputs": [
    {
     "data": {
      "text/html": [
       "<div>\n",
       "<style scoped>\n",
       "    .dataframe tbody tr th:only-of-type {\n",
       "        vertical-align: middle;\n",
       "    }\n",
       "\n",
       "    .dataframe tbody tr th {\n",
       "        vertical-align: top;\n",
       "    }\n",
       "\n",
       "    .dataframe thead th {\n",
       "        text-align: right;\n",
       "    }\n",
       "</style>\n",
       "<table border=\"1\" class=\"dataframe\">\n",
       "  <thead>\n",
       "    <tr style=\"text-align: right;\">\n",
       "      <th></th>\n",
       "      <th>show_id</th>\n",
       "      <th>type</th>\n",
       "      <th>title</th>\n",
       "      <th>director</th>\n",
       "      <th>cast</th>\n",
       "      <th>country</th>\n",
       "      <th>date_added</th>\n",
       "      <th>release_year</th>\n",
       "      <th>rating</th>\n",
       "      <th>duration</th>\n",
       "      <th>listed_in</th>\n",
       "      <th>description</th>\n",
       "    </tr>\n",
       "  </thead>\n",
       "  <tbody>\n",
       "    <tr>\n",
       "      <th>0</th>\n",
       "      <td>s1</td>\n",
       "      <td>Movie</td>\n",
       "      <td>Dick Johnson Is Dead</td>\n",
       "      <td>Kirsten Johnson</td>\n",
       "      <td>NaN</td>\n",
       "      <td>United States</td>\n",
       "      <td>September 25, 2021</td>\n",
       "      <td>2020</td>\n",
       "      <td>PG-13</td>\n",
       "      <td>90 min</td>\n",
       "      <td>Documentaries</td>\n",
       "      <td>As her father nears the end of his life, filmm...</td>\n",
       "    </tr>\n",
       "    <tr>\n",
       "      <th>1</th>\n",
       "      <td>s2</td>\n",
       "      <td>TV Show</td>\n",
       "      <td>Blood &amp; Water</td>\n",
       "      <td>NaN</td>\n",
       "      <td>Ama Qamata, Khosi Ngema, Gail Mabalane, Thaban...</td>\n",
       "      <td>South Africa</td>\n",
       "      <td>September 24, 2021</td>\n",
       "      <td>2021</td>\n",
       "      <td>TV-MA</td>\n",
       "      <td>2 Seasons</td>\n",
       "      <td>International TV Shows, TV Dramas, TV Mysteries</td>\n",
       "      <td>After crossing paths at a party, a Cape Town t...</td>\n",
       "    </tr>\n",
       "    <tr>\n",
       "      <th>2</th>\n",
       "      <td>s3</td>\n",
       "      <td>TV Show</td>\n",
       "      <td>Ganglands</td>\n",
       "      <td>Julien Leclercq</td>\n",
       "      <td>Sami Bouajila, Tracy Gotoas, Samuel Jouy, Nabi...</td>\n",
       "      <td>NaN</td>\n",
       "      <td>September 24, 2021</td>\n",
       "      <td>2021</td>\n",
       "      <td>TV-MA</td>\n",
       "      <td>1 Season</td>\n",
       "      <td>Crime TV Shows, International TV Shows, TV Act...</td>\n",
       "      <td>To protect his family from a powerful drug lor...</td>\n",
       "    </tr>\n",
       "    <tr>\n",
       "      <th>3</th>\n",
       "      <td>s4</td>\n",
       "      <td>TV Show</td>\n",
       "      <td>Jailbirds New Orleans</td>\n",
       "      <td>NaN</td>\n",
       "      <td>NaN</td>\n",
       "      <td>NaN</td>\n",
       "      <td>September 24, 2021</td>\n",
       "      <td>2021</td>\n",
       "      <td>TV-MA</td>\n",
       "      <td>1 Season</td>\n",
       "      <td>Docuseries, Reality TV</td>\n",
       "      <td>Feuds, flirtations and toilet talk go down amo...</td>\n",
       "    </tr>\n",
       "    <tr>\n",
       "      <th>4</th>\n",
       "      <td>s5</td>\n",
       "      <td>TV Show</td>\n",
       "      <td>Kota Factory</td>\n",
       "      <td>NaN</td>\n",
       "      <td>Mayur More, Jitendra Kumar, Ranjan Raj, Alam K...</td>\n",
       "      <td>India</td>\n",
       "      <td>September 24, 2021</td>\n",
       "      <td>2021</td>\n",
       "      <td>TV-MA</td>\n",
       "      <td>2 Seasons</td>\n",
       "      <td>International TV Shows, Romantic TV Shows, TV ...</td>\n",
       "      <td>In a city of coaching centers known to train I...</td>\n",
       "    </tr>\n",
       "  </tbody>\n",
       "</table>\n",
       "</div>"
      ],
      "text/plain": [
       "  show_id     type                  title         director  \\\n",
       "0      s1    Movie   Dick Johnson Is Dead  Kirsten Johnson   \n",
       "1      s2  TV Show          Blood & Water              NaN   \n",
       "2      s3  TV Show              Ganglands  Julien Leclercq   \n",
       "3      s4  TV Show  Jailbirds New Orleans              NaN   \n",
       "4      s5  TV Show           Kota Factory              NaN   \n",
       "\n",
       "                                                cast        country  \\\n",
       "0                                                NaN  United States   \n",
       "1  Ama Qamata, Khosi Ngema, Gail Mabalane, Thaban...   South Africa   \n",
       "2  Sami Bouajila, Tracy Gotoas, Samuel Jouy, Nabi...            NaN   \n",
       "3                                                NaN            NaN   \n",
       "4  Mayur More, Jitendra Kumar, Ranjan Raj, Alam K...          India   \n",
       "\n",
       "           date_added  release_year rating   duration  \\\n",
       "0  September 25, 2021          2020  PG-13     90 min   \n",
       "1  September 24, 2021          2021  TV-MA  2 Seasons   \n",
       "2  September 24, 2021          2021  TV-MA   1 Season   \n",
       "3  September 24, 2021          2021  TV-MA   1 Season   \n",
       "4  September 24, 2021          2021  TV-MA  2 Seasons   \n",
       "\n",
       "                                           listed_in  \\\n",
       "0                                      Documentaries   \n",
       "1    International TV Shows, TV Dramas, TV Mysteries   \n",
       "2  Crime TV Shows, International TV Shows, TV Act...   \n",
       "3                             Docuseries, Reality TV   \n",
       "4  International TV Shows, Romantic TV Shows, TV ...   \n",
       "\n",
       "                                         description  \n",
       "0  As her father nears the end of his life, filmm...  \n",
       "1  After crossing paths at a party, a Cape Town t...  \n",
       "2  To protect his family from a powerful drug lor...  \n",
       "3  Feuds, flirtations and toilet talk go down amo...  \n",
       "4  In a city of coaching centers known to train I...  "
      ]
     },
     "execution_count": 2,
     "metadata": {},
     "output_type": "execute_result"
    }
   ],
   "source": [
    "# Store file path\n",
    "csv_path=\"Resources/Netflix_titles.csv\"\n",
    "\n",
    "# Read the csv file\n",
    "netflixdata_df = pd.read_csv(csv_path)\n",
    "\n",
    "# Display Dataset\n",
    "netflixdata_df.head()\n"
   ]
  },
  {
   "cell_type": "code",
   "execution_count": 3,
   "metadata": {},
   "outputs": [
    {
     "data": {
      "text/plain": [
       "(8807, 12)"
      ]
     },
     "execution_count": 3,
     "metadata": {},
     "output_type": "execute_result"
    }
   ],
   "source": [
    "#Identifying number of rows and columns\n",
    "\n",
    "netflixdata_df.shape"
   ]
  },
  {
   "cell_type": "code",
   "execution_count": 4,
   "metadata": {},
   "outputs": [
    {
     "data": {
      "text/plain": [
       "Index(['show_id', 'type', 'title', 'director', 'cast', 'country', 'date_added',\n",
       "       'release_year', 'rating', 'duration', 'listed_in', 'description'],\n",
       "      dtype='object')"
      ]
     },
     "execution_count": 4,
     "metadata": {},
     "output_type": "execute_result"
    }
   ],
   "source": [
    "#List of the columns\n",
    "netflixdata_df.columns"
   ]
  },
  {
   "cell_type": "code",
   "execution_count": 5,
   "metadata": {},
   "outputs": [
    {
     "data": {
      "text/plain": [
       "0"
      ]
     },
     "execution_count": 5,
     "metadata": {},
     "output_type": "execute_result"
    }
   ],
   "source": [
    "# Identifying if any duplicate values\n",
    "\n",
    "netflixdata_df.duplicated().sum()"
   ]
  },
  {
   "cell_type": "code",
   "execution_count": 6,
   "metadata": {},
   "outputs": [
    {
     "data": {
      "text/plain": [
       "show_id            0\n",
       "type               0\n",
       "title              0\n",
       "director        2634\n",
       "cast             825\n",
       "country          831\n",
       "date_added        10\n",
       "release_year       0\n",
       "rating             4\n",
       "duration           3\n",
       "listed_in          0\n",
       "description        0\n",
       "dtype: int64"
      ]
     },
     "execution_count": 6,
     "metadata": {},
     "output_type": "execute_result"
    }
   ],
   "source": [
    "#Identifying if any null values\n",
    "\n",
    "netflixdata_df.isnull().sum()"
   ]
  },
  {
   "cell_type": "code",
   "execution_count": 7,
   "metadata": {},
   "outputs": [
    {
     "data": {
      "text/plain": [
       "array(['Movie', 'TV Show'], dtype=object)"
      ]
     },
     "execution_count": 7,
     "metadata": {},
     "output_type": "execute_result"
    }
   ],
   "source": [
    "# Breaking down the columns to collect unique values and/ or count \n",
    "\n",
    "# Breakdown of type of Netflix content\n",
    "netflixdata_df[\"type\"].unique()\n"
   ]
  },
  {
   "cell_type": "code",
   "execution_count": 8,
   "metadata": {},
   "outputs": [
    {
     "data": {
      "text/plain": [
       "array(['PG-13', 'TV-MA', 'PG', 'TV-14', 'TV-PG', 'TV-Y', 'TV-Y7', 'R',\n",
       "       'TV-G', 'G', 'NC-17', '74 min', '84 min', '66 min', 'NR', nan,\n",
       "       'TV-Y7-FV', 'UR'], dtype=object)"
      ]
     },
     "execution_count": 8,
     "metadata": {},
     "output_type": "execute_result"
    }
   ],
   "source": [
    "# Breakdown of the ratings for the Netflix content\n",
    "\n",
    "netflixdata_df[\"rating\"].unique()"
   ]
  },
  {
   "cell_type": "code",
   "execution_count": 9,
   "metadata": {},
   "outputs": [
    {
     "data": {
      "text/plain": [
       "array([2020, 2021, 1993, 2018, 1996, 1998, 1997, 2010, 2013, 2017, 1975,\n",
       "       1978, 1983, 1987, 2012, 2001, 2014, 2002, 2003, 2004, 2011, 2008,\n",
       "       2009, 2007, 2005, 2006, 1994, 2015, 2019, 2016, 1982, 1989, 1990,\n",
       "       1991, 1999, 1986, 1992, 1984, 1980, 1961, 2000, 1995, 1985, 1976,\n",
       "       1959, 1988, 1981, 1972, 1964, 1945, 1954, 1979, 1958, 1956, 1963,\n",
       "       1970, 1973, 1925, 1974, 1960, 1966, 1971, 1962, 1969, 1977, 1967,\n",
       "       1968, 1965, 1946, 1942, 1955, 1944, 1947, 1943], dtype=int64)"
      ]
     },
     "execution_count": 9,
     "metadata": {},
     "output_type": "execute_result"
    }
   ],
   "source": [
    "# Breakdown of release year of the Netflix content\n",
    "\n",
    "netflixdata_df['release_year'].unique()\n"
   ]
  },
  {
   "cell_type": "code",
   "execution_count": 12,
   "metadata": {},
   "outputs": [
    {
     "data": {
      "text/plain": [
       "74"
      ]
     },
     "execution_count": 12,
     "metadata": {},
     "output_type": "execute_result"
    }
   ],
   "source": [
    "# Unique count of release year data \n",
    "\n",
    "netflixdata_df['release_year'].nunique()"
   ]
  },
  {
   "cell_type": "code",
   "execution_count": 10,
   "metadata": {},
   "outputs": [
    {
     "data": {
      "text/plain": [
       "514"
      ]
     },
     "execution_count": 10,
     "metadata": {},
     "output_type": "execute_result"
    }
   ],
   "source": [
    "# Count of the listed category\n",
    "\n",
    "netflixdata_df['listed_in'].nunique()"
   ]
  },
  {
   "cell_type": "code",
   "execution_count": 11,
   "metadata": {},
   "outputs": [
    {
     "data": {
      "text/plain": [
       "Movie      6131\n",
       "TV Show    2676\n",
       "Name: type, dtype: int64"
      ]
     },
     "execution_count": 11,
     "metadata": {},
     "output_type": "execute_result"
    }
   ],
   "source": [
    "#Count of movies vs shows\n",
    "\n",
    "netflixdata_df['type'].value_counts()"
   ]
  },
  {
   "cell_type": "code",
   "execution_count": 13,
   "metadata": {},
   "outputs": [
    {
     "data": {
      "text/plain": [
       "<AxesSubplot:ylabel='type'>"
      ]
     },
     "execution_count": 13,
     "metadata": {},
     "output_type": "execute_result"
    },
    {
     "data": {
      "image/png": "[encoded data removed]",
      "text/plain": [
       "<Figure size 640x480 with 1 Axes>"
      ]
     },
     "metadata": {},
     "output_type": "display_data"
    }
   ],
   "source": [
    "# Generating a pie graph for breakdown between Movies and TV Shows\n",
    "netflixdata_df[\"type\"].value_counts().plot(kind=\"pie\",autopct=\"%.1f\")"
   ]
  },
  {
   "cell_type": "code",
   "execution_count": 16,
   "metadata": {},
   "outputs": [
    {
     "ename": "NameError",
     "evalue": "name 'sns' is not defined",
     "output_type": "error",
     "traceback": [
      "\u001b[1;31m---------------------------------------------------------------------------\u001b[0m",
      "\u001b[1;31mNameError\u001b[0m                                 Traceback (most recent call last)",
      "\u001b[1;32m~\\AppData\\Local\\Temp\\ipykernel_12132\\2479622600.py\u001b[0m in \u001b[0;36m<module>\u001b[1;34m\u001b[0m\n\u001b[0;32m      1\u001b[0m \u001b[0mplt\u001b[0m\u001b[1;33m.\u001b[0m\u001b[0mfigure\u001b[0m\u001b[1;33m(\u001b[0m\u001b[0mfigsize\u001b[0m\u001b[1;33m=\u001b[0m\u001b[1;33m(\u001b[0m\u001b[1;36m20\u001b[0m\u001b[1;33m,\u001b[0m\u001b[1;36m5\u001b[0m\u001b[1;33m)\u001b[0m\u001b[1;33m)\u001b[0m\u001b[1;33m\u001b[0m\u001b[1;33m\u001b[0m\u001b[0m\n\u001b[0;32m      2\u001b[0m \u001b[0mplt\u001b[0m\u001b[1;33m.\u001b[0m\u001b[0mstyle\u001b[0m\u001b[1;33m.\u001b[0m\u001b[0muse\u001b[0m\u001b[1;33m(\u001b[0m\u001b[1;34m'seaborn-whitegrid'\u001b[0m\u001b[1;33m)\u001b[0m\u001b[1;33m\u001b[0m\u001b[1;33m\u001b[0m\u001b[0m\n\u001b[1;32m----> 3\u001b[1;33m \u001b[0max\u001b[0m\u001b[1;33m=\u001b[0m\u001b[0msns\u001b[0m\u001b[1;33m.\u001b[0m\u001b[0mcountplot\u001b[0m\u001b[1;33m(\u001b[0m\u001b[0mx\u001b[0m\u001b[1;33m=\u001b[0m\u001b[1;34m\"rating\"\u001b[0m\u001b[1;33m,\u001b[0m\u001b[0mdata\u001b[0m\u001b[1;33m=\u001b[0m\u001b[0mnetflixdata_df\u001b[0m\u001b[1;33m)\u001b[0m\u001b[1;33m\u001b[0m\u001b[1;33m\u001b[0m\u001b[0m\n\u001b[0m\u001b[0;32m      4\u001b[0m \u001b[0mplt\u001b[0m\u001b[1;33m.\u001b[0m\u001b[0mxlabel\u001b[0m\u001b[1;33m(\u001b[0m\u001b[1;34m'Rating'\u001b[0m\u001b[1;33m)\u001b[0m\u001b[1;33m\u001b[0m\u001b[1;33m\u001b[0m\u001b[0m\n\u001b[0;32m      5\u001b[0m \u001b[0mplt\u001b[0m\u001b[1;33m.\u001b[0m\u001b[0mylabel\u001b[0m\u001b[1;33m(\u001b[0m\u001b[1;34m'Count'\u001b[0m\u001b[1;33m)\u001b[0m\u001b[1;33m\u001b[0m\u001b[1;33m\u001b[0m\u001b[0m\n",
      "\u001b[1;31mNameError\u001b[0m: name 'sns' is not defined"
     ]
    },
    {
     "data": {
      "text/plain": [
       "<Figure size 2000x500 with 0 Axes>"
      ]
     },
     "metadata": {},
     "output_type": "display_data"
    }
   ],
   "source": [
    "# Checking the count of rating for movies and tv shows in each category \n",
    "\n",
    "plt.figure(figsize=(20,5))\n",
    "plt.style.use('seaborn-whitegrid')\n",
    "ax=sns.countplot(x=\"rating\",data=netflixdata_df)\n",
    "plt.xlabel('Rating')\n",
    "plt.ylabel('Count')\n",
    "plt.xticks(rotation=90)\n",
    "for p in ax.patches:\n",
    "    ax.annotate(int(p.get_height()), (p.get_x()+0.25, p.get_height()+1), va = 'bottom', color = 'black')"
   ]
  },
  {
   "cell_type": "code",
   "execution_count": 17,
   "metadata": {},
   "outputs": [
    {
     "ename": "NameError",
     "evalue": "name 'sns' is not defined",
     "output_type": "error",
     "traceback": [
      "\u001b[1;31m---------------------------------------------------------------------------\u001b[0m",
      "\u001b[1;31mNameError\u001b[0m                                 Traceback (most recent call last)",
      "\u001b[1;32m~\\AppData\\Local\\Temp\\ipykernel_12132\\998788274.py\u001b[0m in \u001b[0;36m<module>\u001b[1;34m\u001b[0m\n\u001b[0;32m      4\u001b[0m \u001b[0mplt\u001b[0m\u001b[1;33m.\u001b[0m\u001b[0mfigure\u001b[0m\u001b[1;33m(\u001b[0m\u001b[0mfigsize\u001b[0m\u001b[1;33m=\u001b[0m\u001b[1;33m(\u001b[0m\u001b[1;36m25\u001b[0m\u001b[1;33m,\u001b[0m\u001b[1;36m8\u001b[0m\u001b[1;33m)\u001b[0m\u001b[1;33m)\u001b[0m\u001b[1;33m\u001b[0m\u001b[1;33m\u001b[0m\u001b[0m\n\u001b[0;32m      5\u001b[0m \u001b[0mplt\u001b[0m\u001b[1;33m.\u001b[0m\u001b[0mstyle\u001b[0m\u001b[1;33m.\u001b[0m\u001b[0muse\u001b[0m\u001b[1;33m(\u001b[0m\u001b[1;34m'seaborn-whitegrid'\u001b[0m\u001b[1;33m)\u001b[0m\u001b[1;33m\u001b[0m\u001b[1;33m\u001b[0m\u001b[0m\n\u001b[1;32m----> 6\u001b[1;33m \u001b[0max\u001b[0m\u001b[1;33m=\u001b[0m\u001b[0msns\u001b[0m\u001b[1;33m.\u001b[0m\u001b[0mcountplot\u001b[0m\u001b[1;33m(\u001b[0m\u001b[0mx\u001b[0m\u001b[1;33m=\u001b[0m\u001b[1;34m'release_year'\u001b[0m\u001b[1;33m,\u001b[0m\u001b[0mdata\u001b[0m\u001b[1;33m=\u001b[0m\u001b[0mnetflixdata_df\u001b[0m\u001b[1;33m,\u001b[0m\u001b[0mpalette\u001b[0m\u001b[1;33m=\u001b[0m\u001b[1;34m\"Accent\"\u001b[0m\u001b[1;33m)\u001b[0m\u001b[1;33m\u001b[0m\u001b[1;33m\u001b[0m\u001b[0m\n\u001b[0m\u001b[0;32m      7\u001b[0m \u001b[0mplt\u001b[0m\u001b[1;33m.\u001b[0m\u001b[0mxlabel\u001b[0m\u001b[1;33m(\u001b[0m\u001b[1;34m'Year of Release'\u001b[0m\u001b[1;33m)\u001b[0m\u001b[1;33m\u001b[0m\u001b[1;33m\u001b[0m\u001b[0m\n\u001b[0;32m      8\u001b[0m \u001b[0mplt\u001b[0m\u001b[1;33m.\u001b[0m\u001b[0mylabel\u001b[0m\u001b[1;33m(\u001b[0m\u001b[1;34m'Count'\u001b[0m\u001b[1;33m)\u001b[0m\u001b[1;33m\u001b[0m\u001b[1;33m\u001b[0m\u001b[0m\n",
      "\u001b[1;31mNameError\u001b[0m: name 'sns' is not defined"
     ]
    },
    {
     "data": {
      "text/plain": [
       "<Figure size 2500x800 with 0 Axes>"
      ]
     },
     "metadata": {},
     "output_type": "display_data"
    }
   ],
   "source": [
    "# Amount of movies and tv shows added each year\n",
    "\n",
    "\n",
    "plt.figure(figsize=(25,8))\n",
    "plt.style.use('seaborn-whitegrid')\n",
    "ax=sns.countplot(x='release_year',data=netflixdata_df,palette=\"Accent\")\n",
    "plt.xlabel('Year of Release')\n",
    "plt.ylabel('Count')\n",
    "plt.xticks(rotation = 90)\n",
    "for p in ax.patches:\n",
    "    ax.annotate(int(p.get_height()), (p.get_x()+0.25, p.get_height()+1), va = 'bottom', color = 'black')"
   ]
  },
  {
   "cell_type": "code",
   "execution_count": 19,
   "metadata": {},
   "outputs": [
    {
     "data": {
      "text/plain": [
       "<AxesSubplot:>"
      ]
     },
     "execution_count": 19,
     "metadata": {},
     "output_type": "execute_result"
    },
    {
     "data": {
      "image/png": "[encoded data removed]",
      "text/plain": [
       "<Figure size 640x480 with 1 Axes>"
      ]
     },
     "metadata": {},
     "output_type": "display_data"
    }
   ],
   "source": [
    "# Histogram depicting content released per year\n",
    "\n",
    "netflixdata_df[\"release_year\"].hist()\n"
   ]
  },
  {
   "cell_type": "code",
   "execution_count": 20,
   "metadata": {},
   "outputs": [
    {
     "ename": "NameError",
     "evalue": "name 'px' is not defined",
     "output_type": "error",
     "traceback": [
      "\u001b[1;31m---------------------------------------------------------------------------\u001b[0m",
      "\u001b[1;31mNameError\u001b[0m                                 Traceback (most recent call last)",
      "\u001b[1;32m~\\AppData\\Local\\Temp\\ipykernel_12132\\938253467.py\u001b[0m in \u001b[0;36m<module>\u001b[1;34m\u001b[0m\n\u001b[1;32m----> 1\u001b[1;33m \u001b[0mpx\u001b[0m\u001b[1;33m.\u001b[0m\u001b[0mhistogram\u001b[0m\u001b[1;33m(\u001b[0m\u001b[0mnetflixdata_df\u001b[0m\u001b[1;33m,\u001b[0m\u001b[0mx\u001b[0m\u001b[1;33m=\u001b[0m\u001b[1;34m\"release_year\"\u001b[0m\u001b[1;33m,\u001b[0m\u001b[0mcolor\u001b[0m\u001b[1;33m=\u001b[0m\u001b[1;34m\"release_year\"\u001b[0m\u001b[1;33m)\u001b[0m\u001b[1;33m\u001b[0m\u001b[1;33m\u001b[0m\u001b[0m\n\u001b[0m",
      "\u001b[1;31mNameError\u001b[0m: name 'px' is not defined"
     ]
    }
   ],
   "source": [
    "px.histogram(netflixdata_df,x=\"release_year\",color=\"release_year\")"
   ]
  },
  {
   "cell_type": "code",
   "execution_count": 24,
   "metadata": {},
   "outputs": [
    {
     "data": {
      "image/png": "[encoded data removed]",
      "text/plain": [
       "<Figure size 1600x400 with 1 Axes>"
      ]
     },
     "metadata": {},
     "output_type": "display_data"
    }
   ],
   "source": [
    "# Using matplotlib to plot histogram of movies and shows released each year\n",
    "\n",
    "plt.figure(figsize=(16,4))\n",
    "plt.style.use('seaborn-whitegrid')\n",
    "plt.hist(netflixdata_df['release_year'],bins=90,facecolor = '#F47340', edgecolor='#323232', linewidth=0.5)\n",
    "plt.title('Distribution of Release')\n",
    "plt.xlabel('Year of Release')\n",
    "plt.ylabel('Count')\n",
    "plt.show()"
   ]
  },
  {
   "cell_type": "code",
   "execution_count": 25,
   "metadata": {},
   "outputs": [
    {
     "data": {
      "text/plain": [
       "array(['United States', 'South Africa', nan, 'India',\n",
       "       'United States, Ghana, Burkina Faso, United Kingdom, Germany, Ethiopia',\n",
       "       'United Kingdom', 'Germany, Czech Republic', 'Mexico', 'Turkey',\n",
       "       'Australia', 'United States, India, France', 'Finland',\n",
       "       'China, Canada, United States',\n",
       "       'South Africa, United States, Japan', 'Nigeria', 'Japan',\n",
       "       'Spain, United States', 'France', 'Belgium',\n",
       "       'United Kingdom, United States', 'United States, United Kingdom',\n",
       "       'France, United States', 'South Korea', 'Spain',\n",
       "       'United States, Singapore', 'United Kingdom, Australia, France',\n",
       "       'United Kingdom, Australia, France, United States',\n",
       "       'United States, Canada', 'Germany, United States',\n",
       "       'South Africa, United States', 'United States, Mexico',\n",
       "       'United States, Italy, France, Japan',\n",
       "       'United States, Italy, Romania, United Kingdom',\n",
       "       'Australia, United States', 'Argentina, Venezuela',\n",
       "       'United States, United Kingdom, Canada', 'China, Hong Kong',\n",
       "       'Russia', 'Canada', 'Hong Kong', 'United States, China, Hong Kong',\n",
       "       'Italy, United States', 'United States, Germany',\n",
       "       'United Kingdom, Canada, United States', ', South Korea',\n",
       "       'Ireland', 'India, Nepal',\n",
       "       'New Zealand, Australia, France, United States', 'Italy',\n",
       "       'Italy, Brazil, Greece', 'Argentina', 'Jordan', 'Colombia',\n",
       "       'United States, Japan', 'Belgium, United Kingdom',\n",
       "       'Switzerland, United Kingdom, Australia', 'Israel, United States',\n",
       "       'Canada, United States', 'Brazil', 'Argentina, Spain', 'Taiwan',\n",
       "       'United States, Nigeria', 'Bulgaria, United States',\n",
       "       'Spain, United Kingdom, United States', 'United States, China',\n",
       "       'United States, France',\n",
       "       'Spain, France, United Kingdom, United States',\n",
       "       ', France, Algeria', 'Poland', 'Germany',\n",
       "       'France, Israel, Germany, United States, United Kingdom',\n",
       "       'New Zealand', 'Saudi Arabia', 'Thailand', 'Indonesia',\n",
       "       'Egypt, Denmark, Germany', 'United States, Switzerland',\n",
       "       'Hong Kong, Canada, United States', 'Kuwait, United States',\n",
       "       'France, Canada, United States, Spain',\n",
       "       'France, Netherlands, Singapore', 'France, Belgium',\n",
       "       'Ireland, United States, United Kingdom', 'Egypt', 'Malaysia',\n",
       "       'Israel', 'Australia, New Zealand', 'United Kingdom, Germany',\n",
       "       'Belgium, Netherlands', 'South Korea, Czech Republic',\n",
       "       'Australia, Germany', 'Vietnam', 'United Kingdom, Belgium',\n",
       "       'United Kingdom, Australia, United States',\n",
       "       'France, Japan, United States',\n",
       "       'United Kingdom, Germany, Spain, United States',\n",
       "       'United Kingdom, United States, France, Italy',\n",
       "       'United States, Germany, Canada',\n",
       "       'United States, France, Italy, United Kingdom',\n",
       "       'United States, United Kingdom, Germany, Hungary',\n",
       "       'United States, New Zealand', 'Sweden', 'China', 'Lebanon',\n",
       "       'Romania', 'Finland, Germany', 'Lebanon, Syria', 'Philippines',\n",
       "       'Iceland', 'Denmark', 'United States, India',\n",
       "       'Philippines, Singapore, Indonesia',\n",
       "       'China, United States, Canada', 'Lebanon, United Arab Emirates',\n",
       "       'Canada, United States, Denmark', 'United Arab Emirates',\n",
       "       'Mexico, France, Colombia', 'Netherlands',\n",
       "       'Germany, United States, France', 'United States, Bulgaria',\n",
       "       'United Kingdom, France, Germany, United States',\n",
       "       'Norway, Denmark', 'Syria, France, Lebanon, Qatar',\n",
       "       'United States, Czech Republic', 'Mauritius',\n",
       "       'Canada, South Africa', 'Austria', 'Mexico, Brazil',\n",
       "       'Germany, France', 'Mexico, United States',\n",
       "       'United Kingdom, France, Spain, United States',\n",
       "       'United States, Australia',\n",
       "       'United States, United Kingdom, France', 'United States, Russia',\n",
       "       'United States, United Kingdom, New Zealand',\n",
       "       'Australia, United Kingdom', 'Canada, Nigeria, United States',\n",
       "       'France, United States, United Kingdom, Canada',\n",
       "       'France, United Kingdom', 'India, United Kingdom',\n",
       "       'Canada, United States, Mexico',\n",
       "       'United Kingdom, Germany, United States',\n",
       "       'Czech Republic, United Kingdom, United States',\n",
       "       'China, United Kingdom', 'Italy, United Kingdom', 'China, Taiwan',\n",
       "       'United States, Brazil, Japan, Spain, India',\n",
       "       'United States, China, United Kingdom', 'Cameroon',\n",
       "       'Lebanon, Palestine, Denmark, Qatar', 'Japan, United States',\n",
       "       'Uruguay, Germany', 'Egypt, Saudi Arabia',\n",
       "       'United Kingdom, France, Poland, Germany, United States',\n",
       "       'Ireland, Switzerland, United Kingdom, France, United States',\n",
       "       'United Kingdom, South Africa, France',\n",
       "       'Ireland, United Kingdom, France, Germany',\n",
       "       'Russia, United States', 'United Kingdom, United States, France',\n",
       "       'United Kingdom,', 'United States, India, United Kingdom', 'Kenya',\n",
       "       'Spain, Argentina', 'India, United Kingdom, France, Qatar',\n",
       "       'Belgium, France', 'Argentina, Chile', 'United States, Thailand',\n",
       "       'Chile, Brazil', 'United States, Colombia',\n",
       "       'Canada, United States, United Kingdom', 'Uruguay', 'Luxembourg',\n",
       "       'United States, Cambodia, Romania', 'Bangladesh',\n",
       "       'Spain, Belgium, United States',\n",
       "       'United Kingdom, United States, Australia',\n",
       "       'Canada, United States, France', 'Portugal, United States',\n",
       "       'Portugal, Spain', 'India, United States',\n",
       "       'United Kingdom, Ireland', 'United Kingdom, Spain, United States',\n",
       "       'Hungary, United States', 'United States, South Korea',\n",
       "       'Canada, United States, Cayman Islands', 'India, France',\n",
       "       'France, Canada', 'Canada, Hungary, United States', 'Norway',\n",
       "       'Canada, United Kingdom, United States',\n",
       "       'United Kingdom, Germany, France, United States',\n",
       "       'Denmark, United States', 'Senegal', 'France, Algeria',\n",
       "       'United Kingdom, Finland, Germany, United States, Australia, Japan, France, Ireland',\n",
       "       'Philippines, Canada, United Kingdom, United States',\n",
       "       'Ireland, France, Iceland, United States, Mexico, Belgium, United Kingdom, Hong Kong',\n",
       "       'Singapore', 'Kuwait', 'United States, France, Serbia',\n",
       "       'United States, Italy', 'Spain, Italy',\n",
       "       'United States, Ireland, United Kingdom, India',\n",
       "       'United Kingdom, Singapore', 'Hong Kong, United States',\n",
       "       'United States, Malta, France, United Kingdom',\n",
       "       'United States, China, Canada', 'Canada, United States, Ireland',\n",
       "       'Lebanon, Canada, France', 'Japan, Canada, United States',\n",
       "       'Spain, France, Canada',\n",
       "       'Denmark, Singapore, Canada, United States',\n",
       "       'United States, France, Denmark', 'United States, China, Colombia',\n",
       "       'Spain, Thailand, United States', 'Mexico, Spain',\n",
       "       'Ireland, Luxembourg, Belgium', 'China, United States',\n",
       "       'Canada, Belgium', 'Canada, United Kingdom',\n",
       "       'Lebanon, United Arab Emirates, France, Switzerland, Germany',\n",
       "       'France, Belgium, Italy',\n",
       "       'Lebanon, United States, United Arab Emirates', 'Lebanon, France',\n",
       "       'France, Lebanon', 'France, Lebanon, United Kingdom',\n",
       "       'France, Norway, Lebanon, Belgium',\n",
       "       'Sweden, Czech Republic, United Kingdom, Denmark, Netherlands',\n",
       "       'United States, United Kingdom, India', 'Indonesia, Netherlands',\n",
       "       'Turkey, South Korea', 'Serbia, United States', 'Namibia',\n",
       "       'United Kingdom, Kenya', 'United Kingdom, France, Germany, Spain',\n",
       "       'United Kingdom, France, United States, Belgium, Luxembourg, China, Germany',\n",
       "       'Thailand, United States',\n",
       "       'United States, France, Canada, Belgium', 'United Kingdom, China',\n",
       "       'Germany, China, United Kingdom',\n",
       "       'Australia, New Zealand, United States',\n",
       "       'Hong Kong, Iceland, United States', 'France, Australia, Germany',\n",
       "       'United States, Belgium, Canada, France', 'South Africa, Angola',\n",
       "       'United States, Philippines',\n",
       "       'United States, United Kingdom, Canada, China',\n",
       "       'United States, Canada, United Kingdom', 'Turkey, United States',\n",
       "       'Peru, Germany, Norway', 'Mozambique', 'Brazil, France',\n",
       "       'China, Spain, South Korea, United States', 'Spain, Germany',\n",
       "       'Hong Kong, China', 'France, Belgium, Luxembourg, Cambodia,',\n",
       "       'United Kingdom, Australia', 'Belarus',\n",
       "       'Indonesia, United Kingdom',\n",
       "       'Switzerland, France, Belgium, United States', 'Ghana',\n",
       "       'Spain, France, Canada, United States', 'Chile, Italy',\n",
       "       'United Kingdom, Nigeria', 'Chile', 'France, Egypt',\n",
       "       'Egypt, France', 'France, Brazil, Spain, Belgium',\n",
       "       'Egypt, Algeria', 'Canada, South Korea, United States',\n",
       "       'Nigeria, United Kingdom', 'United States, France, Canada',\n",
       "       'Poland, United States',\n",
       "       'United Arab Emirates, Jordan, Lebanon, Saudi Arabia',\n",
       "       'United States, Mexico, Spain, Malta',\n",
       "       'Saudi Arabia, United Arab Emirates', 'Zimbabwe',\n",
       "       'United Kingdom, Germany, United Arab Emirates, New Zealand',\n",
       "       'Romania, United States', 'Canada, Nigeria',\n",
       "       'Saudi Arabia, Netherlands, Germany, Jordan, United Arab Emirates, United States',\n",
       "       'United Kingdom, Spain', 'Finland, France',\n",
       "       'United Kingdom, Germany, United States, France',\n",
       "       'India, United Kingdom, China, Canada, Japan, South Korea, United States',\n",
       "       'Italy, United Kingdom, France', 'United States, Mexico, Colombia',\n",
       "       'Turkey, India', 'Italy, Turkey',\n",
       "       'United Kingdom, United States, Japan',\n",
       "       'France, Belgium, United States',\n",
       "       'Puerto Rico, United States, Colombia', 'Uruguay, Argentina',\n",
       "       'United States, United Kingdom, Japan', 'United States, Argentina',\n",
       "       'United Kingdom, Italy', 'Ireland, United Kingdom',\n",
       "       'United Kingdom, France, Belgium, Canada, United States',\n",
       "       'Netherlands, Germany, Denmark, United Kingdom', 'Hungary',\n",
       "       'Austria, Germany', 'Taiwan, China',\n",
       "       'United Kingdom, United States, Ireland',\n",
       "       'South Korea, United States', 'Brazil, United Kingdom',\n",
       "       'Pakistan, United States', 'Romania, France, Switzerland, Germany',\n",
       "       'Romania, United Kingdom', 'France, Malta, United States',\n",
       "       'Cyprus',\n",
       "       'United Kingdom, France, Belgium, Ireland, United States',\n",
       "       'United States, Norway, Canada', 'Kenya, United States',\n",
       "       'France, South Korea, Japan, United States', 'Taiwan, Malaysia',\n",
       "       'Uruguay, Argentina, Germany, Spain',\n",
       "       'United States, United Kingdom, France, Germany, Japan',\n",
       "       'United States, France, Japan',\n",
       "       'United Kingdom, France, United States',\n",
       "       'Spain, France, United States',\n",
       "       'Indonesia, South Korea, Singapore', 'United States, Spain',\n",
       "       'Netherlands, Germany, Italy, Canada',\n",
       "       'Spain, Germany, Denmark, United States', 'Norway, Sweden',\n",
       "       'South Korea, Canada, United States, China',\n",
       "       'Argentina, Uruguay, Serbia', 'France, Japan',\n",
       "       'Mauritius, South Africa', 'United States, Poland',\n",
       "       'United Kingdom, United States, Germany, Denmark, Belgium, Japan',\n",
       "       'India, Germany', 'India, United Kingdom, Canada, United States',\n",
       "       'Philippines, United States', 'Romania, Bulgaria, Hungary',\n",
       "       'Uruguay, Guatemala', 'France, Senegal, Belgium',\n",
       "       'United Kingdom, Canada', 'Mexico, United States, Spain, Colombia',\n",
       "       'Canada, Norway', 'Singapore, United States',\n",
       "       'Finland, Germany, Belgium', 'United Kingdom, France',\n",
       "       'United States, Chile', 'United Kingdom, Japan, United States',\n",
       "       'Spain, United Kingdom', 'Argentina, United States, Mexico',\n",
       "       'United States, South Korea, Japan', 'Canada, Australia',\n",
       "       'United Kingdom, Hungary, Australia', 'Italy, Belgium',\n",
       "       'United States, United Kingdom, Germany', 'Switzerland',\n",
       "       'Singapore, Malaysia',\n",
       "       'France, Belgium, Luxembourg, Romania, Canada, United States',\n",
       "       'South Africa, Nigeria', 'Spain, France',\n",
       "       'United Kingdom, Hong Kong', 'Pakistan', 'Brazil, United States',\n",
       "       'Denmark, Brazil, France, Portugal, Sweden', 'India, Turkey',\n",
       "       'Malaysia, Singapore, Hong Kong', 'Philippines, Singapore',\n",
       "       'Australia, Canada', 'Taiwan, China, France, United States',\n",
       "       'Germany, Italy', 'Colombia, Peru, United Kingdom',\n",
       "       'Thailand, China, United States', 'Argentina, United States',\n",
       "       'Sweden, United States', 'Uruguay, Spain, Mexico',\n",
       "       'France, Luxembourg, Canada', 'Denmark, Spain', 'Chile, Argentina',\n",
       "       'United Kingdom, Belgium, Sweden', 'Canada, Brazil',\n",
       "       'Italy, France', 'Canada, Germany',\n",
       "       'Pakistan, United Arab Emirates', 'Ghana, United States',\n",
       "       'Mexico, Finland', 'United Arab Emirates, United Kingdom, India',\n",
       "       'Netherlands, Belgium', 'United States, Taiwan',\n",
       "       'Austria, Iraq, United States', 'United Kingdom, Malawi',\n",
       "       'Paraguay, Argentina', 'United Kingdom, Russia, United States',\n",
       "       'India, Pakistan', 'Indonesia, Singapore', 'Spain, Belgium',\n",
       "       'Iceland, Sweden, Belgium', 'Croatia', 'Uruguay, Argentina, Spain',\n",
       "       'United Kingdom, Ireland, United States',\n",
       "       'Canada, Germany, France, United States', 'United Kingdom, Japan',\n",
       "       'Norway, Denmark, Netherlands, Sweden',\n",
       "       'Hong Kong, China, United States', 'Ireland, Canada',\n",
       "       'Italy, Switzerland, France, Germany', 'Mexico, Netherlands',\n",
       "       'United States, Sweden', 'Germany, France, Russia',\n",
       "       'France, Iran, United States', 'United Kingdom, India',\n",
       "       'Russia, Poland, Serbia', 'Spain, Portugal', 'Peru',\n",
       "       'Mexico, Argentina',\n",
       "       'United Kingdom, Canada, United States, Cayman Islands',\n",
       "       'Indonesia, United States',\n",
       "       'United States, Israel, United Kingdom, Canada',\n",
       "       'Norway, Iceland, United States', 'Czech Republic, United States',\n",
       "       'United Kingdom, India, United States',\n",
       "       'United Kingdom, West Germany', 'India, Australia',\n",
       "       'United States,', 'Belgium, United Kingdom, United States',\n",
       "       'India, Germany, Austria',\n",
       "       'United States, Brazil, South Korea, Mexico, Japan, Germany',\n",
       "       'Spain, Mexico', 'China, Japan', 'Argentina, France',\n",
       "       'China, United States, United Kingdom',\n",
       "       'France, Luxembourg, United States',\n",
       "       'China, United States, Australia', 'Colombia, Mexico',\n",
       "       'United States, Canada, Ireland', 'Chile, Peru',\n",
       "       'Argentina, Italy', 'Canada, Japan, United States',\n",
       "       'United Kingdom, Canada, United States, Germany',\n",
       "       'Italy, Switzerland, Albania, Poland',\n",
       "       'United States, Japan, Canada', 'Cambodia',\n",
       "       'Italy, United States, Argentina',\n",
       "       'Saudi Arabia, Syria, Egypt, Lebanon, Kuwait',\n",
       "       'United States, Canada, Indonesia, United Kingdom, China, Singapore',\n",
       "       'Spain, Colombia',\n",
       "       'United Kingdom, South Africa, Australia, United States',\n",
       "       'Bulgaria', 'Argentina, Brazil, France, Poland, Germany, Denmark',\n",
       "       'United Kingdom, Spain, United States, Germany',\n",
       "       'Philippines, Qatar', 'Netherlands, Belgium, Germany, Jordan',\n",
       "       'United Arab Emirates, United States', 'Norway, Germany, Sweden',\n",
       "       'South Korea, China', 'Georgia', 'Soviet Union, India',\n",
       "       'Australia, United Arab Emirates', 'Canada, Germany, South Africa',\n",
       "       'South Korea, China, United States', 'India, Soviet Union',\n",
       "       'India, Mexico', 'Georgia, Germany, France',\n",
       "       'United Arab Emirates, Romania', 'India, Malaysia',\n",
       "       'Germany, Jordan, Netherlands', 'Turkey, France, Germany, Poland',\n",
       "       'Greece, United States', 'France, United Kingdom, United States',\n",
       "       'Norway, Germany', 'France, Morocco', 'Cambodia, United States',\n",
       "       'United States, Denmark', 'United States, Colombia, Mexico',\n",
       "       'United Kingdom, Italy, Israel, Peru, United States',\n",
       "       'Argentina, Uruguay, Spain, France',\n",
       "       'United Kingdom, France, United States, Belgium',\n",
       "       'France, Canada, China, Cambodia',\n",
       "       'United Kingdom, France, Belgium, United States', 'Chile, France',\n",
       "       'Netherlands, United States', 'France, United Kingdom, India',\n",
       "       'Czech Republic, Slovakia', 'Singapore, France',\n",
       "       'Spain, Switzerland', 'United States, Australia, China',\n",
       "       'South Africa, United States, Germany',\n",
       "       'United States, United Kingdom, Australia',\n",
       "       'Spain, Italy, Argentina', 'Chile, Spain, Argentina, Germany',\n",
       "       'West Germany', 'Austria, Czech Republic', 'Lebanon, Qatar',\n",
       "       'United Kingdom, Jordan, Qatar, Iran',\n",
       "       'France, South Korea, Japan', 'Israel, Germany, France',\n",
       "       'Canada, Japan, Netherlands', 'United States, Hungary',\n",
       "       'France, Germany', 'France, Qatar',\n",
       "       'United Kingdom, Germany, Canada', 'Ireland, South Africa',\n",
       "       'Chile, United States, France', 'Belgium, France, Netherlands',\n",
       "       'United Kingdom, Ukraine, United States',\n",
       "       'Germany, Australia, France, China', 'Norway, United States',\n",
       "       'United States, Bermuda, Ecuador',\n",
       "       'United States, Hungary, Ireland, Canada',\n",
       "       'United Kingdom, Egypt, United States',\n",
       "       'United States, France, United Kingdom', 'Spain, Mexico, France',\n",
       "       'United States, South Africa', 'Hong Kong, China, Singapore',\n",
       "       'South Africa, China, United States', 'Denmark, France, Poland',\n",
       "       'New Zealand, United Kingdom',\n",
       "       'Netherlands, Denmark, South Africa', 'Iran, France',\n",
       "       'United Kingdom, United States, France, Germany',\n",
       "       'Australia, France', 'Ireland, United Kingdom, United States',\n",
       "       'United Kingdom, France, Germany', 'Canada, Luxembourg',\n",
       "       'Brazil, Netherlands, United States, Colombia, Austria, Germany',\n",
       "       'France, Canada, Belgium', 'Canada, France',\n",
       "       'Bulgaria, United States, Spain, Canada', 'Sweden, Netherlands',\n",
       "       'France, United States, Mexico',\n",
       "       'Australia, United Kingdom, United Arab Emirates, Canada',\n",
       "       'Australia, Armenia, Japan, Jordan, Mexico, Mongolia, New Zealand, Philippines, South Africa, Sweden, United States, Uruguay',\n",
       "       'India, Iran', 'France, Belgium, Spain',\n",
       "       'Denmark, Sweden, Israel, United States', 'United States, Iceland',\n",
       "       'United Kingdom, Russia',\n",
       "       'United States, Israel, Italy, South Africa',\n",
       "       'Netherlands, Denmark, France, Germany', 'South Korea, Japan',\n",
       "       'United Kingdom, Pakistan', 'France, New Zealand',\n",
       "       'United Kingdom, Czech Republic, United States, Germany, Bahamas',\n",
       "       'China, Germany, India, United States', 'Germany, Sri Lanka',\n",
       "       'United States, India, Bangladesh',\n",
       "       'United States, Canada, France', 'Brazil, France, Germany',\n",
       "       'Germany, United States, Hong Kong, Singapore',\n",
       "       'France, Germany, Switzerland',\n",
       "       'Germany, France, Luxembourg, United Kingdom, United States',\n",
       "       'United Kingdom, Canada, Italy', 'Czech Republic, France',\n",
       "       'Taiwan, Hong Kong, United States, China', 'Germany, Australia',\n",
       "       'United Kingdom, Poland, United States', 'Denmark, Zimbabwe',\n",
       "       'United Kingdom, South Africa',\n",
       "       'Finland, Sweden, Norway, Latvia, Germany',\n",
       "       'South Africa, United States, New Zealand, Canada',\n",
       "       'United States, Italy, United Kingdom, Liechtenstein',\n",
       "       'Denmark, France, Belgium, Italy, Netherlands, United States, United Kingdom',\n",
       "       'United States, Australia, Mexico',\n",
       "       'United Kingdom, Czech Republic, Germany, United States',\n",
       "       'France, China, Japan, United States',\n",
       "       'United States, South Korea, China', 'Germany, Belgium',\n",
       "       'Pakistan, Norway, United States',\n",
       "       'United States, Canada, Belgium, United Kingdom', 'Venezuela',\n",
       "       'Canada, France, Italy, Morocco, United States',\n",
       "       'Canada, Spain, France', 'United States, Indonesia',\n",
       "       'Spain, France, Italy',\n",
       "       'United Arab Emirates, United States, United Kingdom',\n",
       "       'United Kingdom, Israel, Russia', 'Spain, Cuba',\n",
       "       'United States, Brazil', 'United States, France, Mexico',\n",
       "       'United States, Nicaragua',\n",
       "       'United Kingdom, United States, Spain, Germany, Greece, Canada',\n",
       "       'Italy, Canada, France',\n",
       "       'United Kingdom, Denmark, Canada, Croatia', 'Italy, Germany',\n",
       "       'United States, France, United Kingdom, Japan',\n",
       "       'United States, United Kingdom, Denmark, Sweden',\n",
       "       'United States, United Kingdom, Italy',\n",
       "       'United States, France, Canada, Spain',\n",
       "       'Russia, United States, China', 'United States, Canada, Germany',\n",
       "       'Ireland, United States', 'United States, United Arab Emirates',\n",
       "       'United States, Ireland',\n",
       "       'Ireland, United Kingdom, Italy, United States', 'Poland,',\n",
       "       'Slovenia, Croatia, Germany, Czech Republic, Qatar',\n",
       "       'Canada, United Kingdom, Netherlands',\n",
       "       'United States, Spain, Germany', 'India, Japan',\n",
       "       'China, South Korea, United States',\n",
       "       'United Kingdom, France, Belgium',\n",
       "       'Canada, Ireland, United States',\n",
       "       'United Kingdom, United States, Dominican Republic',\n",
       "       'United States, Senegal', 'Germany, United Kingdom, United States',\n",
       "       'South Africa, Germany, Netherlands, France',\n",
       "       'Canada, United States, United Kingdom, France, Luxembourg',\n",
       "       'Ireland, United States, France', 'Germany, United States, Canada',\n",
       "       'United Kingdom, Germany, Canada, United States',\n",
       "       'United States, France, Canada, Lebanon, Qatar',\n",
       "       'Netherlands, Belgium, United Kingdom, United States',\n",
       "       'France, Belgium, China, United States',\n",
       "       'United States, Chile, Israel',\n",
       "       'United Kingdom, Norway, Denmark, Germany, Sweden',\n",
       "       'Norway, Denmark, Sweden', 'China, India, Nepal',\n",
       "       'Colombia, Mexico, United States', 'United Kingdom, South Korea',\n",
       "       'Denmark, China', 'United States, Greece, Brazil',\n",
       "       'South Korea, France',\n",
       "       'United States, Australia, Samoa, United Kingdom',\n",
       "       'Germany, United Kingdom', 'Argentina, Chile, Peru',\n",
       "       'Turkey, Azerbaijan', 'Poland, West Germany',\n",
       "       'Germany, United States, Sweden', 'Canada, Spain',\n",
       "       'United States, Cambodia', 'United States, Greece',\n",
       "       'Norway, United Kingdom, France, Ireland',\n",
       "       'United Kingdom, Poland', 'Israel, Sweden, Germany, Netherlands',\n",
       "       'Switzerland, France', 'Italy, India', 'United States, Botswana',\n",
       "       'Chile, Argentina, France, Spain, United States',\n",
       "       'United States, India, South Korea, China',\n",
       "       'Denmark, Germany, Belgium, United Kingdom, France',\n",
       "       'Denmark, Germany, Belgium, United Kingdom, France, Sweden',\n",
       "       'France, Switzerland, Spain, United States, United Arab Emirates',\n",
       "       'Brazil, India, China, United States',\n",
       "       'Denmark, France, United States, Sweden', 'Australia, Iraq',\n",
       "       'China, Morocco, Hong Kong', 'Canada, United States, Germany',\n",
       "       'United Kingdom, Thailand', 'Venezuela, Colombia',\n",
       "       'Colombia, United States',\n",
       "       'France, Germany, Czech Republic, Belgium',\n",
       "       'Switzerland, Vatican City, Italy, Germany, France',\n",
       "       'Portugal, France, Poland, United States',\n",
       "       'United States, New Zealand, Japan',\n",
       "       'United States, Netherlands, Japan, France', 'India, Switzerland',\n",
       "       'Canada, India', 'United States, Morocco',\n",
       "       'Singapore, Japan, France',\n",
       "       'Canada, Mexico, Germany, South Africa',\n",
       "       'United Kingdom, United States, Canada',\n",
       "       'Germany, France, United States, Canada, United Kingdom',\n",
       "       'United States, Uruguay', 'India, Canada',\n",
       "       'Ireland, Canada, United Kingdom, United States',\n",
       "       'United States, Germany, Australia', 'Australia, France, Ireland',\n",
       "       'Australia, India', 'United States, United Kingdom, Canada, Japan',\n",
       "       'Sweden, United Kingdom, Finland', 'Hong Kong, Taiwan',\n",
       "       'United States, United Kingdom, Spain, South Korea', 'Guatemala',\n",
       "       'Ukraine',\n",
       "       'Italy, South Africa, West Germany, Australia, United States',\n",
       "       'United States, Germany, United Kingdom, Australia',\n",
       "       'Italy, France, Switzerland', 'Canada, France, United States',\n",
       "       'Switzerland, United States', 'Thailand, Canada, United States',\n",
       "       'China, Hong Kong, United States', 'United Kingdom, New Zealand',\n",
       "       'Czech Republic, United Kingdom, France',\n",
       "       'Australia, United Kingdom, Canada', 'Jamaica, United States',\n",
       "       'Australia, United Kingdom, United States, New Zealand, Italy, France',\n",
       "       'France, United States, Canada',\n",
       "       'United Kingdom, France, Canada, Belgium, United States',\n",
       "       'Denmark, United Kingdom, Sweden', 'United States, Hong Kong',\n",
       "       'United States, Kazakhstan',\n",
       "       'Argentina, France, United States, Germany, Qatar',\n",
       "       'United States, Germany, United Kingdom',\n",
       "       'United States, Germany, United Kingdom, Italy',\n",
       "       'United States, New Zealand, United Kingdom',\n",
       "       'Finland, United States', 'Spain, France, Uruguay',\n",
       "       'France, Canada, United States', 'United States, Canada, China',\n",
       "       'Ireland, Canada, Luxembourg, United States, United Kingdom, Philippines, India',\n",
       "       'United States, Czech Republic, United Kingdom', 'Israel, Germany',\n",
       "       'Mexico, France',\n",
       "       'Israel, Germany, Poland, Luxembourg, Belgium, France, United States',\n",
       "       'Austria, United States', 'United Kingdom, Lithuania',\n",
       "       'United States, Greece, United Kingdom',\n",
       "       'United Kingdom, China, United States, India',\n",
       "       'United States, Sweden, Norway',\n",
       "       'United Kingdom, United States, Morocco',\n",
       "       'United States, United Kingdom, Morocco',\n",
       "       'Spain, Canada, United States',\n",
       "       'United States, India, United Arab Emirates',\n",
       "       'United Kingdom, Canada, France, United States',\n",
       "       'India, Germany, France',\n",
       "       'Belgium, Ireland, Netherlands, Germany, Afghanistan',\n",
       "       'France, Canada, Italy, United States, China',\n",
       "       'Ireland, United Kingdom, Greece, France, Netherlands',\n",
       "       'Denmark, Indonesia, Finland, Norway, United Kingdom, Israel, France, United States, Germany, Netherlands',\n",
       "       'New Zealand, United States',\n",
       "       'United States, Australia, South Africa, United Kingdom',\n",
       "       'United States, Germany, Mexico',\n",
       "       'Somalia, Kenya, Sudan, South Africa, United States',\n",
       "       'United States, Canada, Japan, Panama',\n",
       "       'United Kingdom, Spain, Belgium', 'Serbia, South Korea, Slovenia',\n",
       "       'Denmark, United Kingdom, South Africa, Sweden, Belgium',\n",
       "       'Germany, Canada, United States',\n",
       "       'Ireland, Canada, United States, United Kingdom',\n",
       "       'New Zealand, United Kingdom, Australia',\n",
       "       'United Kingdom, Australia, Canada, United States',\n",
       "       'Germany, United States, Italy', 'United States, Venezuela',\n",
       "       'United Kingdom, Canada, Japan',\n",
       "       'United Kingdom, United States, Czech Republic',\n",
       "       'United Kingdom, China, United States',\n",
       "       'United Kingdom, Brazil, Germany',\n",
       "       'United Kingdom, Namibia, South Africa, Zimbabwe, United States',\n",
       "       'Canada, United States, India, United Kingdom',\n",
       "       'Switzerland, United Kingdom, United States',\n",
       "       'United Kingdom, India, Sweden',\n",
       "       'United States, Brazil, India, Uganda, China',\n",
       "       'Peru, United States, United Kingdom',\n",
       "       'Germany, United States, United Kingdom, Canada',\n",
       "       'Canada, India, Thailand, United States, United Arab Emirates',\n",
       "       'United States, East Germany, West Germany',\n",
       "       'France, Netherlands, South Africa, Finland',\n",
       "       'Egypt, Austria, United States', 'Russia, Spain',\n",
       "       'Croatia, Slovenia, Serbia, Montenegro', 'Japan, Canada',\n",
       "       'United States, France, South Korea, Indonesia',\n",
       "       'United Arab Emirates, Jordan'], dtype=object)"
      ]
     },
     "execution_count": 25,
     "metadata": {},
     "output_type": "execute_result"
    }
   ],
   "source": [
    "netflixdata_df['country'].unique()"
   ]
  },
  {
   "cell_type": "code",
   "execution_count": 30,
   "metadata": {},
   "outputs": [
    {
     "data": {
      "text/plain": [
       "122"
      ]
     },
     "execution_count": 30,
     "metadata": {},
     "output_type": "execute_result"
    }
   ],
   "source": [
    "movies_only_in_canada=netflixdata_df[(netflixdata_df['type']=='Movie')&(netflixdata_df['country']=='Canada')]['title']\n",
    "\n",
    "movies_only_in_canada.count()"
   ]
  },
  {
   "cell_type": "code",
   "execution_count": 31,
   "metadata": {},
   "outputs": [
    {
     "data": {
      "text/plain": [
       "array(['Level 16', 'Red Snow', 'The Yeti Adventures',\n",
       "       'Made You Look: A True Story About Fake Art',\n",
       "       'The Magic School Bus Rides Again In the Zone', 'Braven',\n",
       "       'Grizzlies', 'Mighty Express: A Mighty Christmas',\n",
       "       'The Christmas Chronicles: Part Two', 'Hometown Holiday',\n",
       "       'Midnight at the Magnolia', 'A Christmas Catch',\n",
       "       'Christmas with a Prince', 'Elliot the Littlest Reindeer',\n",
       "       'The Magic School Bus Rides Again The Frizz Connection',\n",
       "       'Super Monsters: Dia de los Monsters', 'StarBeam: Halloween Hero',\n",
       "       \"Best Wishes, Warmest Regards: A Schitt's Creek Farewell\",\n",
       "       'True: Friendship Day', 'Fearless',\n",
       "       'Super Monsters: The New Class', 'What Keeps You Alive',\n",
       "       'David Foster: Off the Record', 'True: Rainbow Rescue', 'Code 8',\n",
       "       'Indian Horse', 'The Decline', \"There's Something in the Water\",\n",
       "       'True: Wuzzle Wegg Day', 'True: Grabbleapple Harvest',\n",
       "       'Martin Matte: La vie, la mort...eh la la..!',\n",
       "       'True: Tricky Treat Day', 'Super Monsters Back to School',\n",
       "       'The Red Sea Diving Resort', 'Pants on Fire', 'Transformer',\n",
       "       'Christmas Wedding Planner', 'Christmas With A View',\n",
       "       \"A Witches' Ball\", 'One Last Shot', 'My Perfect Romance',\n",
       "       'Trailer Park Boys: Countdown to Liquor Day',\n",
       "       'Trailer Park Boys: The Movie', 'Ravenous', 'Swearnet Live',\n",
       "       'Trailer Park Boys Live at the North Pole',\n",
       "       \"Trailer Park Boys Live In F**kin' Dublin\",\n",
       "       'Trailer Park Boys: Say Goodnight to the Bad Guys',\n",
       "       'Trailer Park Boys: Xmas Special', 'Goon: Last of the Enforcers',\n",
       "       '48 Christmas Wishes', 'Bon Cop Bad Cop 2',\n",
       "       'Pup Star: Better 2Gether', 'Ghost Patrol', 'Swearnet: The Movie',\n",
       "       'Kiss & Cry', 'Mostly Sunny', 'Bon Cop, Bad Cop',\n",
       "       'Rush: Beyond the Lighted Stage', 'Rampage: President Down',\n",
       "       'Pup Star', 'Gridlocked', 'He Never Died',\n",
       "       'Trailer Park Boys: Drunk, High and Unemployed: Live in Austin',\n",
       "       '#cats_the_mewvie', '#Roxy', '3 Seconds Divorce',\n",
       "       'A Russell Peters Christmas', 'A.M.I.', 'Across The Line',\n",
       "       'Acts of Violence', 'American Hangman', 'At First Light',\n",
       "       'Backcountry', 'Below Her Mouth', 'Birthmarked',\n",
       "       'Blurred Lines: Inside the Art World', \"Bob's Broken Sleigh\",\n",
       "       'Bruno and Boots: Go Jump in the Pool',\n",
       "       'Bruno and Boots: The Wizzle War',\n",
       "       \"Bruno and Boots: This Can't Be Happening at Macdonald Hall\",\n",
       "       'Catwalk: Tales from the Cat Show Circuit',\n",
       "       'Cop and a Half: New Recruit', 'Counterfeiting in Suburbia',\n",
       "       'Dear Santa', \"Devil's Gate\", 'Entanglement', 'Gun Runners',\n",
       "       'Hunt to Kill', 'Into the Forest',\n",
       "       'Invisible Essence: The Little Prince', 'Jack of all Trades',\n",
       "       'Lifechanger', 'Long Time Running', 'Mean Dreams',\n",
       "       'Meditation Park', 'Monkey Up',\n",
       "       \"My Babysitter's a Vampire: The Movie\", 'My Ex-Ex', 'Paper Year',\n",
       "       'Perfect Bid: The Contestant Who Knew Too Much',\n",
       "       'Prosecuting Evil: The Extraordinary World of Ben Ferencz',\n",
       "       'Recall', 'Room for Rent', \"Sadie's Last Days on Earth\",\n",
       "       'Sardaar ji', 'Standoff', 'Strange but True',\n",
       "       'The Accountant of Auschwitz', 'The Adventure Club', 'The Captive',\n",
       "       'The Confirmation', 'The Heat: A Kitchen (R)evolution',\n",
       "       'The Heretics', 'The Humanity Bureau', 'The New Romantic',\n",
       "       'The Wrong Babysitter', 'Theater of Life', 'Tree Man',\n",
       "       'Two Lovers and a Bear', 'Undercover Grandpa', 'Withdrawn'],\n",
       "      dtype=object)"
      ]
     },
     "execution_count": 31,
     "metadata": {},
     "output_type": "execute_result"
    }
   ],
   "source": [
    "movies_only_in_canada.unique()"
   ]
  }
 ],
 "metadata": {
  "kernelspec": {
   "display_name": "base",
   "language": "python",
   "name": "python3"
  },
  "language_info": {
   "codemirror_mode": {
    "name": "ipython",
    "version": 3
   },
   "file_extension": ".py",
   "mimetype": "text/x-python",
   "name": "python",
   "nbconvert_exporter": "python",
   "pygments_lexer": "ipython3",
   "version": "3.9.13"
  },
  "orig_nbformat": 4,
  "vscode": {
   "interpreter": {
    "hash": "2043299c89c8cd0b4d1a6f5cf4529bd58e6a4e0fe3181a25e0d328c821cdc5c5"
   }
  }
 },
 "nbformat": 4,
 "nbformat_minor": 2
}
